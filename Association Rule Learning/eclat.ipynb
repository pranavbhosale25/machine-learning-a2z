{
  "nbformat": 4,
  "nbformat_minor": 0,
  "metadata": {
    "colab": {
      "name": "eclat.ipynb",
      "provenance": [],
      "collapsed_sections": []
    },
    "kernelspec": {
      "name": "python3",
      "display_name": "Python 3"
    }
  },
  "cells": [
    {
      "cell_type": "markdown",
      "metadata": {
        "id": "1fziHl7Ar94J"
      },
      "source": [
        "# Eclat\n",
        "Building the eclat model by modifying apriori algorithm"
      ]
    },
    {
      "cell_type": "markdown",
      "metadata": {
        "id": "eiNwni1xsEgT"
      },
      "source": [
        "## Importing the libraries"
      ]
    },
    {
      "cell_type": "code",
      "metadata": {
        "id": "UJfitBClsJlT",
        "colab": {
          "base_uri": "https://localhost:8080/"
        },
        "outputId": "dc3d3fe5-b847-4b45-c38d-e4be76beadcd"
      },
      "source": [
        "import numpy as np\n",
        "import matplotlib.pyplot as plt\n",
        "import pandas as pd\n",
        "\n",
        "!pip install apyori"
      ],
      "execution_count": 1,
      "outputs": [
        {
          "output_type": "stream",
          "name": "stdout",
          "text": [
            "Collecting apyori\n",
            "  Downloading apyori-1.1.2.tar.gz (8.6 kB)\n",
            "Building wheels for collected packages: apyori\n",
            "  Building wheel for apyori (setup.py) ... \u001b[?25l\u001b[?25hdone\n",
            "  Created wheel for apyori: filename=apyori-1.1.2-py3-none-any.whl size=5974 sha256=b1c0fe080bd5d3dd0dbf33d53308a5e67fd5182a6f1a689b902ab3019a9f2de8\n",
            "  Stored in directory: /root/.cache/pip/wheels/cb/f6/e1/57973c631d27efd1a2f375bd6a83b2a616c4021f24aab84080\n",
            "Successfully built apyori\n",
            "Installing collected packages: apyori\n",
            "Successfully installed apyori-1.1.2\n"
          ]
        }
      ]
    },
    {
      "cell_type": "markdown",
      "metadata": {
        "id": "vLt-7XUKsXBd"
      },
      "source": [
        "## Data Preprocessing"
      ]
    },
    {
      "cell_type": "code",
      "metadata": {
        "id": "J_A-UFOAsaDf"
      },
      "source": [
        "dataset = pd.read_csv('Market_Basket_Optimisation.csv', header = None)\n",
        "transactions = []\n",
        "for i in range(0, 7501):\n",
        "  transactions.append([str(dataset.values[i,j]) for j in range(0, 20)])"
      ],
      "execution_count": 2,
      "outputs": []
    },
    {
      "cell_type": "markdown",
      "metadata": {
        "id": "1wYZdBd5sea_"
      },
      "source": [
        "## Training the Eclat model on the dataset"
      ]
    },
    {
      "cell_type": "code",
      "metadata": {
        "id": "YzIk4vXZsj5i"
      },
      "source": [
        "from apyori import apriori\n",
        "# we still keep confidence and lift parameters to get better results\n",
        "rules = apriori(transactions = transactions, min_support = 0.003, min_confidence = 0.2, min_lift = 3, min_length = 2, max_length = 2)"
      ],
      "execution_count": 4,
      "outputs": []
    },
    {
      "cell_type": "markdown",
      "metadata": {
        "id": "b176YNwWspiO"
      },
      "source": [
        "## Visualising the results"
      ]
    },
    {
      "cell_type": "markdown",
      "metadata": {
        "id": "iO6bF_dImT-E"
      },
      "source": [
        "### Displaying the first results coming directly from the output of the apriori function"
      ]
    },
    {
      "cell_type": "code",
      "metadata": {
        "id": "kvF-sLc6ifhd"
      },
      "source": [
        "results = list(rules)"
      ],
      "execution_count": 5,
      "outputs": []
    },
    {
      "cell_type": "markdown",
      "metadata": {
        "id": "MFkQP-fcjDBC"
      },
      "source": [
        "### Putting the results well organised into a Pandas DataFrame"
      ]
    },
    {
      "cell_type": "code",
      "metadata": {
        "id": "gyq7Poi0mMUe"
      },
      "source": [
        "# removed the columns for confidence and lift\n",
        "def inspect(results):\n",
        "    lhs         = [tuple(result[2][0][0])[0] for result in results]\n",
        "    rhs         = [tuple(result[2][0][1])[0] for result in results]\n",
        "    supports    = [result[1] for result in results]\n",
        "    return list(zip(lhs, rhs, supports))\n",
        "resultsinDataFrame = pd.DataFrame(inspect(results), columns = ['Product 1', 'Product 2', 'Support'])"
      ],
      "execution_count": 7,
      "outputs": []
    },
    {
      "cell_type": "markdown",
      "metadata": {
        "id": "IjrrlYW4jpTR"
      },
      "source": [
        "### Displaying the results sorted by descending supports"
      ]
    },
    {
      "cell_type": "code",
      "metadata": {
        "id": "nI7DJXng-nxQ",
        "colab": {
          "base_uri": "https://localhost:8080/",
          "height": 328
        },
        "outputId": "f7d31334-0c34-4838-9c40-4e07645dc04d"
      },
      "source": [
        "# sorted by support instead of lift\n",
        "resultsinDataFrame.nlargest(n = 10, columns = 'Support')"
      ],
      "execution_count": 9,
      "outputs": [
        {
          "output_type": "execute_result",
          "data": {
            "text/html": [
              "<div>\n",
              "<style scoped>\n",
              "    .dataframe tbody tr th:only-of-type {\n",
              "        vertical-align: middle;\n",
              "    }\n",
              "\n",
              "    .dataframe tbody tr th {\n",
              "        vertical-align: top;\n",
              "    }\n",
              "\n",
              "    .dataframe thead th {\n",
              "        text-align: right;\n",
              "    }\n",
              "</style>\n",
              "<table border=\"1\" class=\"dataframe\">\n",
              "  <thead>\n",
              "    <tr style=\"text-align: right;\">\n",
              "      <th></th>\n",
              "      <th>Product 1</th>\n",
              "      <th>Product 2</th>\n",
              "      <th>Support</th>\n",
              "    </tr>\n",
              "  </thead>\n",
              "  <tbody>\n",
              "    <tr>\n",
              "      <th>4</th>\n",
              "      <td>herb &amp; pepper</td>\n",
              "      <td>ground beef</td>\n",
              "      <td>0.015998</td>\n",
              "    </tr>\n",
              "    <tr>\n",
              "      <th>7</th>\n",
              "      <td>whole wheat pasta</td>\n",
              "      <td>olive oil</td>\n",
              "      <td>0.007999</td>\n",
              "    </tr>\n",
              "    <tr>\n",
              "      <th>2</th>\n",
              "      <td>pasta</td>\n",
              "      <td>escalope</td>\n",
              "      <td>0.005866</td>\n",
              "    </tr>\n",
              "    <tr>\n",
              "      <th>1</th>\n",
              "      <td>mushroom cream sauce</td>\n",
              "      <td>escalope</td>\n",
              "      <td>0.005733</td>\n",
              "    </tr>\n",
              "    <tr>\n",
              "      <th>5</th>\n",
              "      <td>tomato sauce</td>\n",
              "      <td>ground beef</td>\n",
              "      <td>0.005333</td>\n",
              "    </tr>\n",
              "    <tr>\n",
              "      <th>8</th>\n",
              "      <td>pasta</td>\n",
              "      <td>shrimp</td>\n",
              "      <td>0.005066</td>\n",
              "    </tr>\n",
              "    <tr>\n",
              "      <th>0</th>\n",
              "      <td>light cream</td>\n",
              "      <td>chicken</td>\n",
              "      <td>0.004533</td>\n",
              "    </tr>\n",
              "    <tr>\n",
              "      <th>3</th>\n",
              "      <td>fromage blanc</td>\n",
              "      <td>honey</td>\n",
              "      <td>0.003333</td>\n",
              "    </tr>\n",
              "    <tr>\n",
              "      <th>6</th>\n",
              "      <td>light cream</td>\n",
              "      <td>olive oil</td>\n",
              "      <td>0.003200</td>\n",
              "    </tr>\n",
              "  </tbody>\n",
              "</table>\n",
              "</div>"
            ],
            "text/plain": [
              "              Product 1    Product 2   Support\n",
              "4         herb & pepper  ground beef  0.015998\n",
              "7     whole wheat pasta    olive oil  0.007999\n",
              "2                 pasta     escalope  0.005866\n",
              "1  mushroom cream sauce     escalope  0.005733\n",
              "5          tomato sauce  ground beef  0.005333\n",
              "8                 pasta       shrimp  0.005066\n",
              "0           light cream      chicken  0.004533\n",
              "3         fromage blanc        honey  0.003333\n",
              "6           light cream    olive oil  0.003200"
            ]
          },
          "metadata": {},
          "execution_count": 9
        }
      ]
    }
  ]
}