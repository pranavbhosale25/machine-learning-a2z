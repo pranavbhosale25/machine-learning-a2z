{
  "nbformat": 4,
  "nbformat_minor": 0,
  "metadata": {
    "colab": {
      "name": "thompson_sampling.ipynb",
      "provenance": [],
      "collapsed_sections": []
    },
    "kernelspec": {
      "name": "python3",
      "display_name": "Python 3"
    }
  },
  "cells": [
    {
      "cell_type": "markdown",
      "metadata": {
        "id": "vPKTIRAtx232"
      },
      "source": [
        "# Thompson Sampling"
      ]
    },
    {
      "cell_type": "markdown",
      "metadata": {
        "id": "PqPv9zpAx-EE"
      },
      "source": [
        "## Importing the libraries"
      ]
    },
    {
      "cell_type": "code",
      "metadata": {
        "id": "lozuE-Fhx_QB"
      },
      "source": [
        "import numpy as np\n",
        "import matplotlib.pyplot as plt\n",
        "import pandas as pd"
      ],
      "execution_count": 5,
      "outputs": []
    },
    {
      "cell_type": "markdown",
      "metadata": {
        "id": "iqpVk5HhyGmO"
      },
      "source": [
        "## Importing the dataset"
      ]
    },
    {
      "cell_type": "code",
      "metadata": {
        "id": "kY4zzW4hyNfA"
      },
      "source": [
        "dataset = pd.read_csv('Ads_CTR_Optimisation.csv')"
      ],
      "execution_count": 6,
      "outputs": []
    },
    {
      "cell_type": "markdown",
      "metadata": {
        "id": "WqoXeWOYyQhB"
      },
      "source": [
        "## Implementing Thompson Sampling"
      ]
    },
    {
      "cell_type": "code",
      "metadata": {
        "id": "mfSXHEABTGCK"
      },
      "source": [
        "import random\n",
        "# numbers_of_rewards_0 : No. of times ad i got reward 0 upto round n\n",
        "# numbers_of_rewards_1 : No. of times ad i got reward 1 upto round n\n",
        "N = 200\n",
        "d = 10\n",
        "ads_selected = []\n",
        "numbers_of_rewards_0 = [0]*d\n",
        "numbers_of_rewards_1 = [0]*d\n",
        "total_reward = 0\n",
        "\n",
        "for n in range(0,N):\n",
        "  chosen_ad = 0\n",
        "  max_of_random_draws = 0\n",
        "  for i in range(0,d):\n",
        "    random_from_beta = random.betavariate(numbers_of_rewards_1[i] + 1, numbers_of_rewards_0[i] + 1)\n",
        "    if(random_from_beta > max_of_random_draws):\n",
        "      max_of_random_draws = random_from_beta\n",
        "      chosen_ad = i\n",
        "  ads_selected.append(chosen_ad)\n",
        "  reward = dataset.values[n,chosen_ad]\n",
        "  if(reward == 1):\n",
        "    numbers_of_rewards_1[chosen_ad] += 1\n",
        "  else:\n",
        "    numbers_of_rewards_0[chosen_ad] += 1\n",
        "  total_reward += reward\n",
        "\n"
      ],
      "execution_count": 15,
      "outputs": []
    },
    {
      "cell_type": "markdown",
      "metadata": {
        "id": "tweWsgTHyXhv"
      },
      "source": [
        "## Visualising the results - Histogram"
      ]
    },
    {
      "cell_type": "code",
      "metadata": {
        "id": "k8DJmN06yak3",
        "colab": {
          "base_uri": "https://localhost:8080/",
          "height": 295
        },
        "outputId": "0f1f46d7-b7e1-4f31-84d6-f1e63296e1e7"
      },
      "source": [
        "plt.hist(ads_selected)\n",
        "plt.title('Histogram of ads')\n",
        "plt.xlabel('Ads')\n",
        "plt.ylabel('Number of times selected')\n",
        "plt.show()"
      ],
      "execution_count": 16,
      "outputs": [
        {
          "output_type": "display_data",
          "data": {
            "image/png": "[encoded data removed]",
            "text/plain": [
              "<Figure size 432x288 with 1 Axes>"
            ]
          },
          "metadata": {
            "needs_background": "light"
          }
        }
      ]
    }
  ]
}