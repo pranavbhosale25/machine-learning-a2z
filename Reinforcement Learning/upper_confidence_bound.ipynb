{
  "nbformat": 4,
  "nbformat_minor": 0,
  "metadata": {
    "colab": {
      "name": "upper_confidence_bound.ipynb",
      "provenance": [],
      "collapsed_sections": []
    },
    "kernelspec": {
      "name": "python3",
      "display_name": "Python 3"
    }
  },
  "cells": [
    {
      "cell_type": "markdown",
      "metadata": {
        "id": "QJdrJJQUv3-k"
      },
      "source": [
        "# Upper Confidence Bound (UCB)"
      ]
    },
    {
      "cell_type": "markdown",
      "metadata": {
        "id": "2XCjepjJwEv-"
      },
      "source": [
        "## Importing the libraries"
      ]
    },
    {
      "cell_type": "code",
      "metadata": {
        "id": "l_mBkG3YwNTt"
      },
      "source": [
        "import numpy as np\n",
        "import matplotlib.pyplot as plt\n",
        "import pandas as pd"
      ],
      "execution_count": 1,
      "outputs": []
    },
    {
      "cell_type": "markdown",
      "metadata": {
        "id": "npqlXjaNwYTv"
      },
      "source": [
        "## Importing the dataset"
      ]
    },
    {
      "cell_type": "code",
      "metadata": {
        "id": "HMJfUVLVwcFc"
      },
      "source": [
        "dataset = pd.read_csv('Ads_CTR_Optimisation.csv')"
      ],
      "execution_count": 2,
      "outputs": []
    },
    {
      "cell_type": "markdown",
      "metadata": {
        "id": "PaSbots_wfoB"
      },
      "source": [
        "## Implementing UCB"
      ]
    },
    {
      "cell_type": "code",
      "metadata": {
        "id": "uHrzjmFBWpWW"
      },
      "source": [
        "import math\n",
        "\n",
        "# pseudo-code for UCB implementation\n",
        "# N_i (numbers_of_selections) : number of times i was chosen upto round n (list of size 10 containing all 0s)\n",
        "# R_i (sums_of_rewards): total reward for i upto round n (list of size 10 containing all 0s)\n",
        "# N : total number of observations available to us (10,000 in this case)\n",
        "# d : number of options we have to choose from\n",
        "# ads_selected : list of ads selected upto round n\n",
        "# total_reward : sum of rewards received at each round (0 when ad not clicked, 1 when ad clicked)\n",
        "\n",
        "# for each observation (row)\n",
        "#   max_UCB = 0\n",
        "#   ad_chosen = 0\n",
        "#   for each ad (columns)\n",
        "#     calculate average reward upto round n\n",
        "#     calculate delta_i upto round n\n",
        "#     calculate UCB \n",
        "#     max_UCB = max(UCB,max_UCB)\n",
        "#   increment number_of_selections for chosen ad\n",
        "#   increment sum_of_rewards for chosen ad\n",
        "#   increment total_reward\n",
        "#   append chosen ad to ads_selected\n",
        "\n",
        "N = 10000\n",
        "d = 10\n",
        "ads_selected = []\n",
        "numbers_of_selections = [0]*d \n",
        "sums_of_rewards = [0]*d\n",
        "total_reward = 0\n",
        "\n",
        "for n in range(0,N):\n",
        "  ad_selected = 0\n",
        "  max_upper_confidence_bound = 0\n",
        "\n",
        "  for i in range(0,d):\n",
        "    if(numbers_of_selections[i] > 0):\n",
        "      average_reward = sums_of_rewards[i] / numbers_of_selections[i]\n",
        "      delta_i_n = math.sqrt(((3/2) * math.log(n + 1)) / (numbers_of_selections[i]))\n",
        "      upper_confidence_bound = average_reward + delta_i_n\n",
        "    else:\n",
        "      # when ad isn't chosen yet - numbers_of_selections is 0 \n",
        "      # to pick this add forcibly - we set UCB to a high value\n",
        "      upper_confidence_bound = 1e400\n",
        "    if(upper_confidence_bound > max_upper_confidence_bound):\n",
        "      max_upper_confidence_bound = upper_confidence_bound\n",
        "      ad_selected = i\n",
        "  \n",
        "  ads_selected.append(ad_selected)\n",
        "  numbers_of_selections[ad_selected] += 1\n",
        "  sums_of_rewards[ad_selected] += dataset.values[n,ad_selected]\n",
        "  total_reward += dataset.values[n,ad_selected]\n",
        "\n",
        "\n",
        "\n"
      ],
      "execution_count": 7,
      "outputs": []
    },
    {
      "cell_type": "markdown",
      "metadata": {
        "id": "AXftWcjDwsYj"
      },
      "source": [
        "## Visualising the results"
      ]
    },
    {
      "cell_type": "code",
      "metadata": {
        "colab": {
          "base_uri": "https://localhost:8080/",
          "height": 312
        },
        "id": "I22Lv4T9JHRx",
        "outputId": "72198fd9-f445-4aad-c530-a0521a9b2a25"
      },
      "source": [
        "plt.hist(ads_selected)\n",
        "plt.title('Ad selection Histogram')\n",
        "plt.xlabel('Advertisement')\n",
        "plt.ylabel('No. of clicks')\n"
      ],
      "execution_count": 8,
      "outputs": [
        {
          "output_type": "execute_result",
          "data": {
            "text/plain": [
              "Text(0, 0.5, 'No. of clicks')"
            ]
          },
          "metadata": {},
          "execution_count": 8
        },
        {
          "output_type": "display_data",
          "data": {
            "image/png": "[encoded data removed]",
            "text/plain": [
              "<Figure size 432x288 with 1 Axes>"
            ]
          },
          "metadata": {
            "needs_background": "light"
          }
        }
      ]
    }
  ]
}